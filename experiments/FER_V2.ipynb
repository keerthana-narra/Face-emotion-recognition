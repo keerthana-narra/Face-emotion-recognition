{
 "cells": [
  {
   "cell_type": "markdown",
   "id": "7b8d222a-defc-4902-911a-3ba473dba045",
   "metadata": {},
   "source": [
    "# **Facial Emotion Recognisation**\n",
    "\n"
   ]
  },
  {
   "cell_type": "markdown",
   "id": "cf6c5eab-ce00-48a9-b46a-575d974b0c6b",
   "metadata": {},
   "source": [
    "##### **Project Type**    - Computer Vision\n"
   ]
  },
  {
   "cell_type": "markdown",
   "id": "98cffa84-e2ad-43eb-a4ec-da8772338928",
   "metadata": {},
   "source": [
    "Github link : [Github](https://github.com/keerthana-narra/Face-emotion-recognition)"
   ]
  },
  {
   "cell_type": "markdown",
   "id": "3a0a240d-09ea-4718-bcdd-468d94a42c0c",
   "metadata": {},
   "source": [
    "Project Documentation : [Documentation link](https://docs.google.com/document/d/1IYErDAZeKQjC1EWciWO_DMfTOzNfjAi0/edit?usp=drive_link&ouid=101693464124780926449&rtpof=true&sd=true)"
   ]
  },
  {
   "cell_type": "markdown",
   "id": "bcf30583-6eb0-476b-9299-363475663514",
   "metadata": {},
   "source": [
    "Presentation : [Video link]"
   ]
  },
  {
   "cell_type": "markdown",
   "id": "d6b904d0-eed9-4ebb-a4dc-487b8e35d7b8",
   "metadata": {},
   "source": [
    "# **Problem Statement and Objective**\n"
   ]
  },
  {
   "cell_type": "markdown",
   "id": "829306ff-2868-4bd5-8369-a39db30b98d1",
   "metadata": {},
   "source": [
    "##### **Project Overview**\n",
    "\n",
    "**DeepFER** is a project focused on developing a robust and efficient system for recognizing human emotions from facial expressions using deep learning techniques. The system leverages Convolutional Neural Networks (CNNs) and Transfer Learning to accurately classify images of faces into one of seven distinct emotion categories: **angry, disgust, fear, happy, neutral, sad, and surprise**. The project integrates both real-time emotion recognition using a webcam and static image analysis, making it versatile and applicable in various domains such as human-computer interaction, mental health monitoring, and customer service enhancement. The dataset is carefully processed and augmented to improve the model's generalization capabilities, and the model's architecture is fine-tuned for optimal performance."
   ]
  },
  {
   "cell_type": "markdown",
   "id": "c711cfe6-6481-4131-82cc-9e59ddd3c2a9",
   "metadata": {},
   "source": [
    "##### **Project Objective** \n",
    "\n",
    "**Primary Goal:** To develop a state-of-the-art facial emotion recognition system that can classify emotions with high accuracy in real-time and from static images.\n",
    "\n",
    "**Data Integrity:** Ensure the dataset is clean, well-structured, and free of duplicates or irrelevant data, to maximize model performance.\n",
    "\n",
    "**Model Development:** Design and implement a deep learning model using pre-trained architectures (e.g., ResNet, VGG16) combined with custom layers to effectively learn and recognize emotional patterns from facial images.\n",
    "\n",
    "**Real-Time Application:** Integrate the model into a user-friendly application that allows for real-time emotion detection via webcam, as well as the analysis of uploaded images."
   ]
  },
  {
   "cell_type": "markdown",
   "id": "5fb1f185-a5fe-4a25-84c9-5f164b226bfd",
   "metadata": {},
   "source": [
    "# ***Let's Begin !***"
   ]
  },
  {
   "cell_type": "markdown",
   "id": "1b5bc30b",
   "metadata": {},
   "source": [
    "## ***1. Know your data***"
   ]
  },
  {
   "cell_type": "markdown",
   "id": "eb00243a-bcf3-4925-a0e4-ec15b0888203",
   "metadata": {},
   "source": [
    "### **Importing libraries**"
   ]
  },
  {
   "cell_type": "code",
   "execution_count": 1,
   "id": "37c0a520",
   "metadata": {},
   "outputs": [
    {
     "name": "stdout",
     "output_type": "stream",
     "text": [
      "WARNING:tensorflow:From c:\\Users\\ADMIN\\anaconda3\\envs\\cvenv\\lib\\site-packages\\keras\\src\\losses.py:2976: The name tf.losses.sparse_softmax_cross_entropy is deprecated. Please use tf.compat.v1.losses.sparse_softmax_cross_entropy instead.\n",
      "\n"
     ]
    }
   ],
   "source": [
    "import numpy as np # linear algebra\n",
    "import pandas as pd # data processing, CSV file I/O (e.g. pd.read_csv)\n",
    "import os\n",
    "import matplotlib.pyplot as plt\n",
    "import seaborn as sns\n",
    "import tensorflow as tf\n",
    "import keras\n",
    "from keras.preprocessing import image\n",
    "from keras.models import Sequential\n",
    "from keras.layers import Flatten,Dense,Dropout,BatchNormalization\n",
    "from tensorflow.keras.callbacks import ModelCheckpoint,ReduceLROnPlateau,EarlyStopping\n",
    "from tensorflow.keras.preprocessing.image import ImageDataGenerator\n",
    "import cv2\n",
    "from tensorflow.keras.applications import VGG16, InceptionResNetV2\n",
    "from keras import regularizers\n",
    "from tensorflow.keras.optimizers import Adam,RMSprop,SGD,Adamax\n",
    "from sklearn.metrics import confusion_matrix, classification_report\n",
    "import scipy\n",
    "import glob\n",
    "\n"
   ]
  },
  {
   "cell_type": "markdown",
   "id": "b4af03c8",
   "metadata": {},
   "source": [
    "### **Dataset Loading**"
   ]
  },
  {
   "cell_type": "code",
   "execution_count": 2,
   "id": "ee9c6282",
   "metadata": {},
   "outputs": [],
   "source": [
    "# Define the image locations of train and test set\n",
    "train_dir = \"images/train\" \n",
    "test_dir = \"images/validation\"  "
   ]
  },
  {
   "cell_type": "code",
   "execution_count": 3,
   "id": "5563a786",
   "metadata": {},
   "outputs": [
    {
     "name": "stdout",
     "output_type": "stream",
     "text": [
      "['angry', 'disgust', 'fear', 'happy', 'neutral', 'sad', 'surprise']\n"
     ]
    }
   ],
   "source": [
    "# Check the classes available\n",
    "class_names = os.listdir(\"images/train\")\n",
    "print(class_names)"
   ]
  },
  {
   "cell_type": "markdown",
   "id": "b00afe93",
   "metadata": {},
   "source": [
    "## ***2. Data Preprocessing***"
   ]
  },
  {
   "cell_type": "markdown",
   "id": "8329b91a-0b2b-4569-9101-23f4dd38c5e9",
   "metadata": {},
   "source": [
    "### **Data Integrity and Cleaning**"
   ]
  },
  {
   "cell_type": "code",
   "execution_count": 4,
   "id": "6d2e1b95",
   "metadata": {},
   "outputs": [],
   "source": [
    "# Function to check each subdirectory and warn if it has no files\n",
    "def check_data_integrity(data_dir):\n",
    "    # Walk through each directory and subdirectory\n",
    "    for subdir, dirs, files in os.walk(data_dir):\n",
    "        # Check if the current subdirectory has no files\n",
    "        if not files and dirs == []:\n",
    "            print(f\"Warning: No files found in {subdir}\")\n",
    "\n",
    "# Check the integrity of the 'train' and 'validation' directories\n",
    "check_data_integrity(\"images/train/\")\n",
    "check_data_integrity(\"images/validation/\")\n"
   ]
  },
  {
   "cell_type": "markdown",
   "id": "ed99c3a1-635f-432b-8cdb-18cff21ed6e6",
   "metadata": {},
   "source": [
    "### **Data Preprocessing, Data Agumentation & Data Normalization**"
   ]
  },
  {
   "cell_type": "markdown",
   "id": "80688692",
   "metadata": {},
   "source": [
    "**Data Augmentation** Data augmentation is a technique used to artificially increase the size and diversity of a training dataset. It helps in improving the generalization and robustness of machine learning models by exposing the model to various transformations of the original data.\n",
    "\n",
    "**Data Normalization** Data normalization is the process of transforming the data to a common scale without distorting its relative differences. In the context of image data, normalization typically involves scaling pixel values to a predefined range (e.g., [0, 1] or [-1, 1]). This preprocessing step ensures that the model learns features effectively and converges faster during training.\n"
   ]
  },
  {
   "cell_type": "code",
   "execution_count": 5,
   "id": "57e533b0",
   "metadata": {},
   "outputs": [],
   "source": [
    "# specifing new image shape for resnet\n",
    "img_shape = 224\n",
    "batch_size = 64"
   ]
  },
  {
   "cell_type": "code",
   "execution_count": 6,
   "id": "8fbb6843",
   "metadata": {},
   "outputs": [],
   "source": [
    "# Preprocessing and Normalizing\n",
    "\n",
    "train_preprocessor = ImageDataGenerator(\n",
    "        rescale = 1 / 255.,\n",
    "        rotation_range=10,\n",
    "        zoom_range=0.2,\n",
    "        width_shift_range=0.1,\n",
    "        height_shift_range=0.1,\n",
    "        horizontal_flip=True,                                        \n",
    "        fill_mode='nearest',\n",
    "    )\n",
    "test_preprocessor = ImageDataGenerator(\n",
    "    rescale = 1 / 255.,\n",
    ")"
   ]
  },
  {
   "cell_type": "code",
   "execution_count": 7,
   "id": "c8d68d06",
   "metadata": {},
   "outputs": [
    {
     "name": "stdout",
     "output_type": "stream",
     "text": [
      "Found 28821 images belonging to 7 classes.\n",
      "Found 7066 images belonging to 7 classes.\n"
     ]
    }
   ],
   "source": [
    "# Setting target_size and other parameters\n",
    "\n",
    "train_data = train_preprocessor.flow_from_directory(\n",
    "    train_dir,\n",
    "    class_mode=\"categorical\",\n",
    "    target_size=(img_shape,img_shape),\n",
    "    color_mode='rgb',\n",
    "    shuffle=True,\n",
    "    batch_size=batch_size,\n",
    "    subset='training', \n",
    ")\n",
    "\n",
    "test_data = test_preprocessor.flow_from_directory(\n",
    "    test_dir,\n",
    "    class_mode=\"categorical\",\n",
    "    target_size=(img_shape,img_shape),\n",
    "    color_mode=\"rgb\",\n",
    "    shuffle=False,\n",
    "    batch_size=batch_size,\n",
    ")"
   ]
  },
  {
   "cell_type": "markdown",
   "id": "1b3f0fd5-d6b2-402f-991d-829a7196e624",
   "metadata": {},
   "source": [
    "## ***3.Model Development and Architecture***"
   ]
  },
  {
   "cell_type": "markdown",
   "id": "1ad1aaba",
   "metadata": {},
   "source": [
    "**ResNet50V2 Architecture**\n",
    "\n",
    "ResNet50V2 is a variant of the ResNet architecture, which stands for Residual Network. It was introduced to address the problem of vanishing gradients in very deep neural networks by using residual connections.\n",
    "\n",
    "**Key Features**\n",
    "\n",
    "- **Deep Architecture**: ResNet50V2 is a deep convolutional neural network with 50 layers, excluding the pooling and fully connected layers.\n",
    "  \n",
    "- **Residual Blocks**: The core building block of ResNet50V2 is the residual block. It uses shortcut connections (skip connections) to jump over some layers, helping to mitigate the vanishing gradient problem.\n",
    "\n",
    "- **Bottleneck Design**: It employs bottleneck blocks in some layers to reduce computational complexity while maintaining model depth.\n",
    "\n",
    "- **Preprocessing Layers**: ResNet50V2 includes initial layers for preprocessing input images, such as normalization and resizing.\n",
    "\n",
    "- **Final Layers**: The network concludes with global average pooling, followed by a fully connected layer with softmax activation for multi-class classification tasks.\n",
    "\n",
    "- **Architecture Depth**: The architecture consists of multiple blocks of convolutional layers, each followed by batch normalization and ReLU activation.\n",
    "\n",
    "- **Training Efficiency**: ResNet50V2 is known for its efficiency in training very deep networks, achieving state-of-the-art performance on various image classification tasks.\n",
    "\n",
    "**Applications**\n",
    "\n",
    "ResNet50V2 is widely used in computer vision applications, including image classification, object detection, and segmentation tasks. Its design principles have influenced the development of other deep neural network architectures.\n"
   ]
  },
  {
   "cell_type": "code",
   "execution_count": 8,
   "id": "30fce522",
   "metadata": {
    "scrolled": true
   },
   "outputs": [
    {
     "name": "stdout",
     "output_type": "stream",
     "text": [
      "WARNING:tensorflow:From c:\\Users\\ADMIN\\anaconda3\\envs\\cvenv\\lib\\site-packages\\keras\\src\\backend.py:1398: The name tf.executing_eagerly_outside_functions is deprecated. Please use tf.compat.v1.executing_eagerly_outside_functions instead.\n",
      "\n",
      "WARNING:tensorflow:From c:\\Users\\ADMIN\\anaconda3\\envs\\cvenv\\lib\\site-packages\\keras\\src\\layers\\pooling\\max_pooling2d.py:161: The name tf.nn.max_pool is deprecated. Please use tf.nn.max_pool2d instead.\n",
      "\n",
      "Model: \"resnet50v2\"\n",
      "__________________________________________________________________________________________________\n",
      " Layer (type)                Output Shape                 Param #   Connected to                  \n",
      "==================================================================================================\n",
      " input_1 (InputLayer)        [(None, 224, 224, 3)]        0         []                            \n",
      "                                                                                                  \n",
      " conv1_pad (ZeroPadding2D)   (None, 230, 230, 3)          0         ['input_1[0][0]']             \n",
      "                                                                                                  \n",
      " conv1_conv (Conv2D)         (None, 112, 112, 64)         9472      ['conv1_pad[0][0]']           \n",
      "                                                                                                  \n",
      " pool1_pad (ZeroPadding2D)   (None, 114, 114, 64)         0         ['conv1_conv[0][0]']          \n",
      "                                                                                                  \n",
      " pool1_pool (MaxPooling2D)   (None, 56, 56, 64)           0         ['pool1_pad[0][0]']           \n",
      "                                                                                                  \n",
      " conv2_block1_preact_bn (Ba  (None, 56, 56, 64)           256       ['pool1_pool[0][0]']          \n",
      " tchNormalization)                                                                                \n",
      "                                                                                                  \n",
      " conv2_block1_preact_relu (  (None, 56, 56, 64)           0         ['conv2_block1_preact_bn[0][0]\n",
      " Activation)                                                        ']                            \n",
      "                                                                                                  \n",
      " conv2_block1_1_conv (Conv2  (None, 56, 56, 64)           4096      ['conv2_block1_preact_relu[0][\n",
      " D)                                                                 0]']                          \n",
      "                                                                                                  \n",
      " conv2_block1_1_bn (BatchNo  (None, 56, 56, 64)           256       ['conv2_block1_1_conv[0][0]'] \n",
      " rmalization)                                                                                     \n",
      "                                                                                                  \n",
      " conv2_block1_1_relu (Activ  (None, 56, 56, 64)           0         ['conv2_block1_1_bn[0][0]']   \n",
      " ation)                                                                                           \n",
      "                                                                                                  \n",
      " conv2_block1_2_pad (ZeroPa  (None, 58, 58, 64)           0         ['conv2_block1_1_relu[0][0]'] \n",
      " dding2D)                                                                                         \n",
      "                                                                                                  \n",
      " conv2_block1_2_conv (Conv2  (None, 56, 56, 64)           36864     ['conv2_block1_2_pad[0][0]']  \n",
      " D)                                                                                               \n",
      "                                                                                                  \n",
      " conv2_block1_2_bn (BatchNo  (None, 56, 56, 64)           256       ['conv2_block1_2_conv[0][0]'] \n",
      " rmalization)                                                                                     \n",
      "                                                                                                  \n",
      " conv2_block1_2_relu (Activ  (None, 56, 56, 64)           0         ['conv2_block1_2_bn[0][0]']   \n",
      " ation)                                                                                           \n",
      "                                                                                                  \n",
      " conv2_block1_0_conv (Conv2  (None, 56, 56, 256)          16640     ['conv2_block1_preact_relu[0][\n",
      " D)                                                                 0]']                          \n",
      "                                                                                                  \n",
      " conv2_block1_3_conv (Conv2  (None, 56, 56, 256)          16640     ['conv2_block1_2_relu[0][0]'] \n",
      " D)                                                                                               \n",
      "                                                                                                  \n",
      " conv2_block1_out (Add)      (None, 56, 56, 256)          0         ['conv2_block1_0_conv[0][0]', \n",
      "                                                                     'conv2_block1_3_conv[0][0]'] \n",
      "                                                                                                  \n",
      " conv2_block2_preact_bn (Ba  (None, 56, 56, 256)          1024      ['conv2_block1_out[0][0]']    \n",
      " tchNormalization)                                                                                \n",
      "                                                                                                  \n",
      " conv2_block2_preact_relu (  (None, 56, 56, 256)          0         ['conv2_block2_preact_bn[0][0]\n",
      " Activation)                                                        ']                            \n",
      "                                                                                                  \n",
      " conv2_block2_1_conv (Conv2  (None, 56, 56, 64)           16384     ['conv2_block2_preact_relu[0][\n",
      " D)                                                                 0]']                          \n",
      "                                                                                                  \n",
      " conv2_block2_1_bn (BatchNo  (None, 56, 56, 64)           256       ['conv2_block2_1_conv[0][0]'] \n",
      " rmalization)                                                                                     \n",
      "                                                                                                  \n",
      " conv2_block2_1_relu (Activ  (None, 56, 56, 64)           0         ['conv2_block2_1_bn[0][0]']   \n",
      " ation)                                                                                           \n",
      "                                                                                                  \n",
      " conv2_block2_2_pad (ZeroPa  (None, 58, 58, 64)           0         ['conv2_block2_1_relu[0][0]'] \n",
      " dding2D)                                                                                         \n",
      "                                                                                                  \n",
      " conv2_block2_2_conv (Conv2  (None, 56, 56, 64)           36864     ['conv2_block2_2_pad[0][0]']  \n",
      " D)                                                                                               \n",
      "                                                                                                  \n",
      " conv2_block2_2_bn (BatchNo  (None, 56, 56, 64)           256       ['conv2_block2_2_conv[0][0]'] \n",
      " rmalization)                                                                                     \n",
      "                                                                                                  \n",
      " conv2_block2_2_relu (Activ  (None, 56, 56, 64)           0         ['conv2_block2_2_bn[0][0]']   \n",
      " ation)                                                                                           \n",
      "                                                                                                  \n",
      " conv2_block2_3_conv (Conv2  (None, 56, 56, 256)          16640     ['conv2_block2_2_relu[0][0]'] \n",
      " D)                                                                                               \n",
      "                                                                                                  \n",
      " conv2_block2_out (Add)      (None, 56, 56, 256)          0         ['conv2_block1_out[0][0]',    \n",
      "                                                                     'conv2_block2_3_conv[0][0]'] \n",
      "                                                                                                  \n",
      " conv2_block3_preact_bn (Ba  (None, 56, 56, 256)          1024      ['conv2_block2_out[0][0]']    \n",
      " tchNormalization)                                                                                \n",
      "                                                                                                  \n",
      " conv2_block3_preact_relu (  (None, 56, 56, 256)          0         ['conv2_block3_preact_bn[0][0]\n",
      " Activation)                                                        ']                            \n",
      "                                                                                                  \n",
      " conv2_block3_1_conv (Conv2  (None, 56, 56, 64)           16384     ['conv2_block3_preact_relu[0][\n",
      " D)                                                                 0]']                          \n",
      "                                                                                                  \n",
      " conv2_block3_1_bn (BatchNo  (None, 56, 56, 64)           256       ['conv2_block3_1_conv[0][0]'] \n",
      " rmalization)                                                                                     \n",
      "                                                                                                  \n",
      " conv2_block3_1_relu (Activ  (None, 56, 56, 64)           0         ['conv2_block3_1_bn[0][0]']   \n",
      " ation)                                                                                           \n",
      "                                                                                                  \n",
      " conv2_block3_2_pad (ZeroPa  (None, 58, 58, 64)           0         ['conv2_block3_1_relu[0][0]'] \n",
      " dding2D)                                                                                         \n",
      "                                                                                                  \n",
      " conv2_block3_2_conv (Conv2  (None, 28, 28, 64)           36864     ['conv2_block3_2_pad[0][0]']  \n",
      " D)                                                                                               \n",
      "                                                                                                  \n",
      " conv2_block3_2_bn (BatchNo  (None, 28, 28, 64)           256       ['conv2_block3_2_conv[0][0]'] \n",
      " rmalization)                                                                                     \n",
      "                                                                                                  \n",
      " conv2_block3_2_relu (Activ  (None, 28, 28, 64)           0         ['conv2_block3_2_bn[0][0]']   \n",
      " ation)                                                                                           \n",
      "                                                                                                  \n",
      " max_pooling2d (MaxPooling2  (None, 28, 28, 256)          0         ['conv2_block2_out[0][0]']    \n",
      " D)                                                                                               \n",
      "                                                                                                  \n",
      " conv2_block3_3_conv (Conv2  (None, 28, 28, 256)          16640     ['conv2_block3_2_relu[0][0]'] \n",
      " D)                                                                                               \n",
      "                                                                                                  \n",
      " conv2_block3_out (Add)      (None, 28, 28, 256)          0         ['max_pooling2d[0][0]',       \n",
      "                                                                     'conv2_block3_3_conv[0][0]'] \n",
      "                                                                                                  \n",
      " conv3_block1_preact_bn (Ba  (None, 28, 28, 256)          1024      ['conv2_block3_out[0][0]']    \n",
      " tchNormalization)                                                                                \n",
      "                                                                                                  \n",
      " conv3_block1_preact_relu (  (None, 28, 28, 256)          0         ['conv3_block1_preact_bn[0][0]\n",
      " Activation)                                                        ']                            \n",
      "                                                                                                  \n",
      " conv3_block1_1_conv (Conv2  (None, 28, 28, 128)          32768     ['conv3_block1_preact_relu[0][\n",
      " D)                                                                 0]']                          \n",
      "                                                                                                  \n",
      " conv3_block1_1_bn (BatchNo  (None, 28, 28, 128)          512       ['conv3_block1_1_conv[0][0]'] \n",
      " rmalization)                                                                                     \n",
      "                                                                                                  \n",
      " conv3_block1_1_relu (Activ  (None, 28, 28, 128)          0         ['conv3_block1_1_bn[0][0]']   \n",
      " ation)                                                                                           \n",
      "                                                                                                  \n",
      " conv3_block1_2_pad (ZeroPa  (None, 30, 30, 128)          0         ['conv3_block1_1_relu[0][0]'] \n",
      " dding2D)                                                                                         \n",
      "                                                                                                  \n",
      " conv3_block1_2_conv (Conv2  (None, 28, 28, 128)          147456    ['conv3_block1_2_pad[0][0]']  \n",
      " D)                                                                                               \n",
      "                                                                                                  \n",
      " conv3_block1_2_bn (BatchNo  (None, 28, 28, 128)          512       ['conv3_block1_2_conv[0][0]'] \n",
      " rmalization)                                                                                     \n",
      "                                                                                                  \n",
      " conv3_block1_2_relu (Activ  (None, 28, 28, 128)          0         ['conv3_block1_2_bn[0][0]']   \n",
      " ation)                                                                                           \n",
      "                                                                                                  \n",
      " conv3_block1_0_conv (Conv2  (None, 28, 28, 512)          131584    ['conv3_block1_preact_relu[0][\n",
      " D)                                                                 0]']                          \n",
      "                                                                                                  \n",
      " conv3_block1_3_conv (Conv2  (None, 28, 28, 512)          66048     ['conv3_block1_2_relu[0][0]'] \n",
      " D)                                                                                               \n",
      "                                                                                                  \n",
      " conv3_block1_out (Add)      (None, 28, 28, 512)          0         ['conv3_block1_0_conv[0][0]', \n",
      "                                                                     'conv3_block1_3_conv[0][0]'] \n",
      "                                                                                                  \n",
      " conv3_block2_preact_bn (Ba  (None, 28, 28, 512)          2048      ['conv3_block1_out[0][0]']    \n",
      " tchNormalization)                                                                                \n",
      "                                                                                                  \n",
      " conv3_block2_preact_relu (  (None, 28, 28, 512)          0         ['conv3_block2_preact_bn[0][0]\n",
      " Activation)                                                        ']                            \n",
      "                                                                                                  \n",
      " conv3_block2_1_conv (Conv2  (None, 28, 28, 128)          65536     ['conv3_block2_preact_relu[0][\n",
      " D)                                                                 0]']                          \n",
      "                                                                                                  \n",
      " conv3_block2_1_bn (BatchNo  (None, 28, 28, 128)          512       ['conv3_block2_1_conv[0][0]'] \n",
      " rmalization)                                                                                     \n",
      "                                                                                                  \n",
      " conv3_block2_1_relu (Activ  (None, 28, 28, 128)          0         ['conv3_block2_1_bn[0][0]']   \n",
      " ation)                                                                                           \n",
      "                                                                                                  \n",
      " conv3_block2_2_pad (ZeroPa  (None, 30, 30, 128)          0         ['conv3_block2_1_relu[0][0]'] \n",
      " dding2D)                                                                                         \n",
      "                                                                                                  \n",
      " conv3_block2_2_conv (Conv2  (None, 28, 28, 128)          147456    ['conv3_block2_2_pad[0][0]']  \n",
      " D)                                                                                               \n",
      "                                                                                                  \n",
      " conv3_block2_2_bn (BatchNo  (None, 28, 28, 128)          512       ['conv3_block2_2_conv[0][0]'] \n",
      " rmalization)                                                                                     \n",
      "                                                                                                  \n",
      " conv3_block2_2_relu (Activ  (None, 28, 28, 128)          0         ['conv3_block2_2_bn[0][0]']   \n",
      " ation)                                                                                           \n",
      "                                                                                                  \n",
      " conv3_block2_3_conv (Conv2  (None, 28, 28, 512)          66048     ['conv3_block2_2_relu[0][0]'] \n",
      " D)                                                                                               \n",
      "                                                                                                  \n",
      " conv3_block2_out (Add)      (None, 28, 28, 512)          0         ['conv3_block1_out[0][0]',    \n",
      "                                                                     'conv3_block2_3_conv[0][0]'] \n",
      "                                                                                                  \n",
      " conv3_block3_preact_bn (Ba  (None, 28, 28, 512)          2048      ['conv3_block2_out[0][0]']    \n",
      " tchNormalization)                                                                                \n",
      "                                                                                                  \n",
      " conv3_block3_preact_relu (  (None, 28, 28, 512)          0         ['conv3_block3_preact_bn[0][0]\n",
      " Activation)                                                        ']                            \n",
      "                                                                                                  \n",
      " conv3_block3_1_conv (Conv2  (None, 28, 28, 128)          65536     ['conv3_block3_preact_relu[0][\n",
      " D)                                                                 0]']                          \n",
      "                                                                                                  \n",
      " conv3_block3_1_bn (BatchNo  (None, 28, 28, 128)          512       ['conv3_block3_1_conv[0][0]'] \n",
      " rmalization)                                                                                     \n",
      "                                                                                                  \n",
      " conv3_block3_1_relu (Activ  (None, 28, 28, 128)          0         ['conv3_block3_1_bn[0][0]']   \n",
      " ation)                                                                                           \n",
      "                                                                                                  \n",
      " conv3_block3_2_pad (ZeroPa  (None, 30, 30, 128)          0         ['conv3_block3_1_relu[0][0]'] \n",
      " dding2D)                                                                                         \n",
      "                                                                                                  \n",
      " conv3_block3_2_conv (Conv2  (None, 28, 28, 128)          147456    ['conv3_block3_2_pad[0][0]']  \n",
      " D)                                                                                               \n",
      "                                                                                                  \n",
      " conv3_block3_2_bn (BatchNo  (None, 28, 28, 128)          512       ['conv3_block3_2_conv[0][0]'] \n",
      " rmalization)                                                                                     \n",
      "                                                                                                  \n",
      " conv3_block3_2_relu (Activ  (None, 28, 28, 128)          0         ['conv3_block3_2_bn[0][0]']   \n",
      " ation)                                                                                           \n",
      "                                                                                                  \n",
      " conv3_block3_3_conv (Conv2  (None, 28, 28, 512)          66048     ['conv3_block3_2_relu[0][0]'] \n",
      " D)                                                                                               \n",
      "                                                                                                  \n",
      " conv3_block3_out (Add)      (None, 28, 28, 512)          0         ['conv3_block2_out[0][0]',    \n",
      "                                                                     'conv3_block3_3_conv[0][0]'] \n",
      "                                                                                                  \n",
      " conv3_block4_preact_bn (Ba  (None, 28, 28, 512)          2048      ['conv3_block3_out[0][0]']    \n",
      " tchNormalization)                                                                                \n",
      "                                                                                                  \n",
      " conv3_block4_preact_relu (  (None, 28, 28, 512)          0         ['conv3_block4_preact_bn[0][0]\n",
      " Activation)                                                        ']                            \n",
      "                                                                                                  \n",
      " conv3_block4_1_conv (Conv2  (None, 28, 28, 128)          65536     ['conv3_block4_preact_relu[0][\n",
      " D)                                                                 0]']                          \n",
      "                                                                                                  \n",
      " conv3_block4_1_bn (BatchNo  (None, 28, 28, 128)          512       ['conv3_block4_1_conv[0][0]'] \n",
      " rmalization)                                                                                     \n",
      "                                                                                                  \n",
      " conv3_block4_1_relu (Activ  (None, 28, 28, 128)          0         ['conv3_block4_1_bn[0][0]']   \n",
      " ation)                                                                                           \n",
      "                                                                                                  \n",
      " conv3_block4_2_pad (ZeroPa  (None, 30, 30, 128)          0         ['conv3_block4_1_relu[0][0]'] \n",
      " dding2D)                                                                                         \n",
      "                                                                                                  \n",
      " conv3_block4_2_conv (Conv2  (None, 14, 14, 128)          147456    ['conv3_block4_2_pad[0][0]']  \n",
      " D)                                                                                               \n",
      "                                                                                                  \n",
      " conv3_block4_2_bn (BatchNo  (None, 14, 14, 128)          512       ['conv3_block4_2_conv[0][0]'] \n",
      " rmalization)                                                                                     \n",
      "                                                                                                  \n",
      " conv3_block4_2_relu (Activ  (None, 14, 14, 128)          0         ['conv3_block4_2_bn[0][0]']   \n",
      " ation)                                                                                           \n",
      "                                                                                                  \n",
      " max_pooling2d_1 (MaxPoolin  (None, 14, 14, 512)          0         ['conv3_block3_out[0][0]']    \n",
      " g2D)                                                                                             \n",
      "                                                                                                  \n",
      " conv3_block4_3_conv (Conv2  (None, 14, 14, 512)          66048     ['conv3_block4_2_relu[0][0]'] \n",
      " D)                                                                                               \n",
      "                                                                                                  \n",
      " conv3_block4_out (Add)      (None, 14, 14, 512)          0         ['max_pooling2d_1[0][0]',     \n",
      "                                                                     'conv3_block4_3_conv[0][0]'] \n",
      "                                                                                                  \n",
      " conv4_block1_preact_bn (Ba  (None, 14, 14, 512)          2048      ['conv3_block4_out[0][0]']    \n",
      " tchNormalization)                                                                                \n",
      "                                                                                                  \n",
      " conv4_block1_preact_relu (  (None, 14, 14, 512)          0         ['conv4_block1_preact_bn[0][0]\n",
      " Activation)                                                        ']                            \n",
      "                                                                                                  \n",
      " conv4_block1_1_conv (Conv2  (None, 14, 14, 256)          131072    ['conv4_block1_preact_relu[0][\n",
      " D)                                                                 0]']                          \n",
      "                                                                                                  \n",
      " conv4_block1_1_bn (BatchNo  (None, 14, 14, 256)          1024      ['conv4_block1_1_conv[0][0]'] \n",
      " rmalization)                                                                                     \n",
      "                                                                                                  \n",
      " conv4_block1_1_relu (Activ  (None, 14, 14, 256)          0         ['conv4_block1_1_bn[0][0]']   \n",
      " ation)                                                                                           \n",
      "                                                                                                  \n",
      " conv4_block1_2_pad (ZeroPa  (None, 16, 16, 256)          0         ['conv4_block1_1_relu[0][0]'] \n",
      " dding2D)                                                                                         \n",
      "                                                                                                  \n",
      " conv4_block1_2_conv (Conv2  (None, 14, 14, 256)          589824    ['conv4_block1_2_pad[0][0]']  \n",
      " D)                                                                                               \n",
      "                                                                                                  \n",
      " conv4_block1_2_bn (BatchNo  (None, 14, 14, 256)          1024      ['conv4_block1_2_conv[0][0]'] \n",
      " rmalization)                                                                                     \n",
      "                                                                                                  \n",
      " conv4_block1_2_relu (Activ  (None, 14, 14, 256)          0         ['conv4_block1_2_bn[0][0]']   \n",
      " ation)                                                                                           \n",
      "                                                                                                  \n",
      " conv4_block1_0_conv (Conv2  (None, 14, 14, 1024)         525312    ['conv4_block1_preact_relu[0][\n",
      " D)                                                                 0]']                          \n",
      "                                                                                                  \n",
      " conv4_block1_3_conv (Conv2  (None, 14, 14, 1024)         263168    ['conv4_block1_2_relu[0][0]'] \n",
      " D)                                                                                               \n",
      "                                                                                                  \n",
      " conv4_block1_out (Add)      (None, 14, 14, 1024)         0         ['conv4_block1_0_conv[0][0]', \n",
      "                                                                     'conv4_block1_3_conv[0][0]'] \n",
      "                                                                                                  \n",
      " conv4_block2_preact_bn (Ba  (None, 14, 14, 1024)         4096      ['conv4_block1_out[0][0]']    \n",
      " tchNormalization)                                                                                \n",
      "                                                                                                  \n",
      " conv4_block2_preact_relu (  (None, 14, 14, 1024)         0         ['conv4_block2_preact_bn[0][0]\n",
      " Activation)                                                        ']                            \n",
      "                                                                                                  \n",
      " conv4_block2_1_conv (Conv2  (None, 14, 14, 256)          262144    ['conv4_block2_preact_relu[0][\n",
      " D)                                                                 0]']                          \n",
      "                                                                                                  \n",
      " conv4_block2_1_bn (BatchNo  (None, 14, 14, 256)          1024      ['conv4_block2_1_conv[0][0]'] \n",
      " rmalization)                                                                                     \n",
      "                                                                                                  \n",
      " conv4_block2_1_relu (Activ  (None, 14, 14, 256)          0         ['conv4_block2_1_bn[0][0]']   \n",
      " ation)                                                                                           \n",
      "                                                                                                  \n",
      " conv4_block2_2_pad (ZeroPa  (None, 16, 16, 256)          0         ['conv4_block2_1_relu[0][0]'] \n",
      " dding2D)                                                                                         \n",
      "                                                                                                  \n",
      " conv4_block2_2_conv (Conv2  (None, 14, 14, 256)          589824    ['conv4_block2_2_pad[0][0]']  \n",
      " D)                                                                                               \n",
      "                                                                                                  \n",
      " conv4_block2_2_bn (BatchNo  (None, 14, 14, 256)          1024      ['conv4_block2_2_conv[0][0]'] \n",
      " rmalization)                                                                                     \n",
      "                                                                                                  \n",
      " conv4_block2_2_relu (Activ  (None, 14, 14, 256)          0         ['conv4_block2_2_bn[0][0]']   \n",
      " ation)                                                                                           \n",
      "                                                                                                  \n",
      " conv4_block2_3_conv (Conv2  (None, 14, 14, 1024)         263168    ['conv4_block2_2_relu[0][0]'] \n",
      " D)                                                                                               \n",
      "                                                                                                  \n",
      " conv4_block2_out (Add)      (None, 14, 14, 1024)         0         ['conv4_block1_out[0][0]',    \n",
      "                                                                     'conv4_block2_3_conv[0][0]'] \n",
      "                                                                                                  \n",
      " conv4_block3_preact_bn (Ba  (None, 14, 14, 1024)         4096      ['conv4_block2_out[0][0]']    \n",
      " tchNormalization)                                                                                \n",
      "                                                                                                  \n",
      " conv4_block3_preact_relu (  (None, 14, 14, 1024)         0         ['conv4_block3_preact_bn[0][0]\n",
      " Activation)                                                        ']                            \n",
      "                                                                                                  \n",
      " conv4_block3_1_conv (Conv2  (None, 14, 14, 256)          262144    ['conv4_block3_preact_relu[0][\n",
      " D)                                                                 0]']                          \n",
      "                                                                                                  \n",
      " conv4_block3_1_bn (BatchNo  (None, 14, 14, 256)          1024      ['conv4_block3_1_conv[0][0]'] \n",
      " rmalization)                                                                                     \n",
      "                                                                                                  \n",
      " conv4_block3_1_relu (Activ  (None, 14, 14, 256)          0         ['conv4_block3_1_bn[0][0]']   \n",
      " ation)                                                                                           \n",
      "                                                                                                  \n",
      " conv4_block3_2_pad (ZeroPa  (None, 16, 16, 256)          0         ['conv4_block3_1_relu[0][0]'] \n",
      " dding2D)                                                                                         \n",
      "                                                                                                  \n",
      " conv4_block3_2_conv (Conv2  (None, 14, 14, 256)          589824    ['conv4_block3_2_pad[0][0]']  \n",
      " D)                                                                                               \n",
      "                                                                                                  \n",
      " conv4_block3_2_bn (BatchNo  (None, 14, 14, 256)          1024      ['conv4_block3_2_conv[0][0]'] \n",
      " rmalization)                                                                                     \n",
      "                                                                                                  \n",
      " conv4_block3_2_relu (Activ  (None, 14, 14, 256)          0         ['conv4_block3_2_bn[0][0]']   \n",
      " ation)                                                                                           \n",
      "                                                                                                  \n",
      " conv4_block3_3_conv (Conv2  (None, 14, 14, 1024)         263168    ['conv4_block3_2_relu[0][0]'] \n",
      " D)                                                                                               \n",
      "                                                                                                  \n",
      " conv4_block3_out (Add)      (None, 14, 14, 1024)         0         ['conv4_block2_out[0][0]',    \n",
      "                                                                     'conv4_block3_3_conv[0][0]'] \n",
      "                                                                                                  \n",
      " conv4_block4_preact_bn (Ba  (None, 14, 14, 1024)         4096      ['conv4_block3_out[0][0]']    \n",
      " tchNormalization)                                                                                \n",
      "                                                                                                  \n",
      " conv4_block4_preact_relu (  (None, 14, 14, 1024)         0         ['conv4_block4_preact_bn[0][0]\n",
      " Activation)                                                        ']                            \n",
      "                                                                                                  \n",
      " conv4_block4_1_conv (Conv2  (None, 14, 14, 256)          262144    ['conv4_block4_preact_relu[0][\n",
      " D)                                                                 0]']                          \n",
      "                                                                                                  \n",
      " conv4_block4_1_bn (BatchNo  (None, 14, 14, 256)          1024      ['conv4_block4_1_conv[0][0]'] \n",
      " rmalization)                                                                                     \n",
      "                                                                                                  \n",
      " conv4_block4_1_relu (Activ  (None, 14, 14, 256)          0         ['conv4_block4_1_bn[0][0]']   \n",
      " ation)                                                                                           \n",
      "                                                                                                  \n",
      " conv4_block4_2_pad (ZeroPa  (None, 16, 16, 256)          0         ['conv4_block4_1_relu[0][0]'] \n",
      " dding2D)                                                                                         \n",
      "                                                                                                  \n",
      " conv4_block4_2_conv (Conv2  (None, 14, 14, 256)          589824    ['conv4_block4_2_pad[0][0]']  \n",
      " D)                                                                                               \n",
      "                                                                                                  \n",
      " conv4_block4_2_bn (BatchNo  (None, 14, 14, 256)          1024      ['conv4_block4_2_conv[0][0]'] \n",
      " rmalization)                                                                                     \n",
      "                                                                                                  \n",
      " conv4_block4_2_relu (Activ  (None, 14, 14, 256)          0         ['conv4_block4_2_bn[0][0]']   \n",
      " ation)                                                                                           \n",
      "                                                                                                  \n",
      " conv4_block4_3_conv (Conv2  (None, 14, 14, 1024)         263168    ['conv4_block4_2_relu[0][0]'] \n",
      " D)                                                                                               \n",
      "                                                                                                  \n",
      " conv4_block4_out (Add)      (None, 14, 14, 1024)         0         ['conv4_block3_out[0][0]',    \n",
      "                                                                     'conv4_block4_3_conv[0][0]'] \n",
      "                                                                                                  \n",
      " conv4_block5_preact_bn (Ba  (None, 14, 14, 1024)         4096      ['conv4_block4_out[0][0]']    \n",
      " tchNormalization)                                                                                \n",
      "                                                                                                  \n",
      " conv4_block5_preact_relu (  (None, 14, 14, 1024)         0         ['conv4_block5_preact_bn[0][0]\n",
      " Activation)                                                        ']                            \n",
      "                                                                                                  \n",
      " conv4_block5_1_conv (Conv2  (None, 14, 14, 256)          262144    ['conv4_block5_preact_relu[0][\n",
      " D)                                                                 0]']                          \n",
      "                                                                                                  \n",
      " conv4_block5_1_bn (BatchNo  (None, 14, 14, 256)          1024      ['conv4_block5_1_conv[0][0]'] \n",
      " rmalization)                                                                                     \n",
      "                                                                                                  \n",
      " conv4_block5_1_relu (Activ  (None, 14, 14, 256)          0         ['conv4_block5_1_bn[0][0]']   \n",
      " ation)                                                                                           \n",
      "                                                                                                  \n",
      " conv4_block5_2_pad (ZeroPa  (None, 16, 16, 256)          0         ['conv4_block5_1_relu[0][0]'] \n",
      " dding2D)                                                                                         \n",
      "                                                                                                  \n",
      " conv4_block5_2_conv (Conv2  (None, 14, 14, 256)          589824    ['conv4_block5_2_pad[0][0]']  \n",
      " D)                                                                                               \n",
      "                                                                                                  \n",
      " conv4_block5_2_bn (BatchNo  (None, 14, 14, 256)          1024      ['conv4_block5_2_conv[0][0]'] \n",
      " rmalization)                                                                                     \n",
      "                                                                                                  \n",
      " conv4_block5_2_relu (Activ  (None, 14, 14, 256)          0         ['conv4_block5_2_bn[0][0]']   \n",
      " ation)                                                                                           \n",
      "                                                                                                  \n",
      " conv4_block5_3_conv (Conv2  (None, 14, 14, 1024)         263168    ['conv4_block5_2_relu[0][0]'] \n",
      " D)                                                                                               \n",
      "                                                                                                  \n",
      " conv4_block5_out (Add)      (None, 14, 14, 1024)         0         ['conv4_block4_out[0][0]',    \n",
      "                                                                     'conv4_block5_3_conv[0][0]'] \n",
      "                                                                                                  \n",
      " conv4_block6_preact_bn (Ba  (None, 14, 14, 1024)         4096      ['conv4_block5_out[0][0]']    \n",
      " tchNormalization)                                                                                \n",
      "                                                                                                  \n",
      " conv4_block6_preact_relu (  (None, 14, 14, 1024)         0         ['conv4_block6_preact_bn[0][0]\n",
      " Activation)                                                        ']                            \n",
      "                                                                                                  \n",
      " conv4_block6_1_conv (Conv2  (None, 14, 14, 256)          262144    ['conv4_block6_preact_relu[0][\n",
      " D)                                                                 0]']                          \n",
      "                                                                                                  \n",
      " conv4_block6_1_bn (BatchNo  (None, 14, 14, 256)          1024      ['conv4_block6_1_conv[0][0]'] \n",
      " rmalization)                                                                                     \n",
      "                                                                                                  \n",
      " conv4_block6_1_relu (Activ  (None, 14, 14, 256)          0         ['conv4_block6_1_bn[0][0]']   \n",
      " ation)                                                                                           \n",
      "                                                                                                  \n",
      " conv4_block6_2_pad (ZeroPa  (None, 16, 16, 256)          0         ['conv4_block6_1_relu[0][0]'] \n",
      " dding2D)                                                                                         \n",
      "                                                                                                  \n",
      " conv4_block6_2_conv (Conv2  (None, 7, 7, 256)            589824    ['conv4_block6_2_pad[0][0]']  \n",
      " D)                                                                                               \n",
      "                                                                                                  \n",
      " conv4_block6_2_bn (BatchNo  (None, 7, 7, 256)            1024      ['conv4_block6_2_conv[0][0]'] \n",
      " rmalization)                                                                                     \n",
      "                                                                                                  \n",
      " conv4_block6_2_relu (Activ  (None, 7, 7, 256)            0         ['conv4_block6_2_bn[0][0]']   \n",
      " ation)                                                                                           \n",
      "                                                                                                  \n",
      " max_pooling2d_2 (MaxPoolin  (None, 7, 7, 1024)           0         ['conv4_block5_out[0][0]']    \n",
      " g2D)                                                                                             \n",
      "                                                                                                  \n",
      " conv4_block6_3_conv (Conv2  (None, 7, 7, 1024)           263168    ['conv4_block6_2_relu[0][0]'] \n",
      " D)                                                                                               \n",
      "                                                                                                  \n",
      " conv4_block6_out (Add)      (None, 7, 7, 1024)           0         ['max_pooling2d_2[0][0]',     \n",
      "                                                                     'conv4_block6_3_conv[0][0]'] \n",
      "                                                                                                  \n",
      " conv5_block1_preact_bn (Ba  (None, 7, 7, 1024)           4096      ['conv4_block6_out[0][0]']    \n",
      " tchNormalization)                                                                                \n",
      "                                                                                                  \n",
      " conv5_block1_preact_relu (  (None, 7, 7, 1024)           0         ['conv5_block1_preact_bn[0][0]\n",
      " Activation)                                                        ']                            \n",
      "                                                                                                  \n",
      " conv5_block1_1_conv (Conv2  (None, 7, 7, 512)            524288    ['conv5_block1_preact_relu[0][\n",
      " D)                                                                 0]']                          \n",
      "                                                                                                  \n",
      " conv5_block1_1_bn (BatchNo  (None, 7, 7, 512)            2048      ['conv5_block1_1_conv[0][0]'] \n",
      " rmalization)                                                                                     \n",
      "                                                                                                  \n",
      " conv5_block1_1_relu (Activ  (None, 7, 7, 512)            0         ['conv5_block1_1_bn[0][0]']   \n",
      " ation)                                                                                           \n",
      "                                                                                                  \n",
      " conv5_block1_2_pad (ZeroPa  (None, 9, 9, 512)            0         ['conv5_block1_1_relu[0][0]'] \n",
      " dding2D)                                                                                         \n",
      "                                                                                                  \n",
      " conv5_block1_2_conv (Conv2  (None, 7, 7, 512)            2359296   ['conv5_block1_2_pad[0][0]']  \n",
      " D)                                                                                               \n",
      "                                                                                                  \n",
      " conv5_block1_2_bn (BatchNo  (None, 7, 7, 512)            2048      ['conv5_block1_2_conv[0][0]'] \n",
      " rmalization)                                                                                     \n",
      "                                                                                                  \n",
      " conv5_block1_2_relu (Activ  (None, 7, 7, 512)            0         ['conv5_block1_2_bn[0][0]']   \n",
      " ation)                                                                                           \n",
      "                                                                                                  \n",
      " conv5_block1_0_conv (Conv2  (None, 7, 7, 2048)           2099200   ['conv5_block1_preact_relu[0][\n",
      " D)                                                                 0]']                          \n",
      "                                                                                                  \n",
      " conv5_block1_3_conv (Conv2  (None, 7, 7, 2048)           1050624   ['conv5_block1_2_relu[0][0]'] \n",
      " D)                                                                                               \n",
      "                                                                                                  \n",
      " conv5_block1_out (Add)      (None, 7, 7, 2048)           0         ['conv5_block1_0_conv[0][0]', \n",
      "                                                                     'conv5_block1_3_conv[0][0]'] \n",
      "                                                                                                  \n",
      " conv5_block2_preact_bn (Ba  (None, 7, 7, 2048)           8192      ['conv5_block1_out[0][0]']    \n",
      " tchNormalization)                                                                                \n",
      "                                                                                                  \n",
      " conv5_block2_preact_relu (  (None, 7, 7, 2048)           0         ['conv5_block2_preact_bn[0][0]\n",
      " Activation)                                                        ']                            \n",
      "                                                                                                  \n",
      " conv5_block2_1_conv (Conv2  (None, 7, 7, 512)            1048576   ['conv5_block2_preact_relu[0][\n",
      " D)                                                                 0]']                          \n",
      "                                                                                                  \n",
      " conv5_block2_1_bn (BatchNo  (None, 7, 7, 512)            2048      ['conv5_block2_1_conv[0][0]'] \n",
      " rmalization)                                                                                     \n",
      "                                                                                                  \n",
      " conv5_block2_1_relu (Activ  (None, 7, 7, 512)            0         ['conv5_block2_1_bn[0][0]']   \n",
      " ation)                                                                                           \n",
      "                                                                                                  \n",
      " conv5_block2_2_pad (ZeroPa  (None, 9, 9, 512)            0         ['conv5_block2_1_relu[0][0]'] \n",
      " dding2D)                                                                                         \n",
      "                                                                                                  \n",
      " conv5_block2_2_conv (Conv2  (None, 7, 7, 512)            2359296   ['conv5_block2_2_pad[0][0]']  \n",
      " D)                                                                                               \n",
      "                                                                                                  \n",
      " conv5_block2_2_bn (BatchNo  (None, 7, 7, 512)            2048      ['conv5_block2_2_conv[0][0]'] \n",
      " rmalization)                                                                                     \n",
      "                                                                                                  \n",
      " conv5_block2_2_relu (Activ  (None, 7, 7, 512)            0         ['conv5_block2_2_bn[0][0]']   \n",
      " ation)                                                                                           \n",
      "                                                                                                  \n",
      " conv5_block2_3_conv (Conv2  (None, 7, 7, 2048)           1050624   ['conv5_block2_2_relu[0][0]'] \n",
      " D)                                                                                               \n",
      "                                                                                                  \n",
      " conv5_block2_out (Add)      (None, 7, 7, 2048)           0         ['conv5_block1_out[0][0]',    \n",
      "                                                                     'conv5_block2_3_conv[0][0]'] \n",
      "                                                                                                  \n",
      " conv5_block3_preact_bn (Ba  (None, 7, 7, 2048)           8192      ['conv5_block2_out[0][0]']    \n",
      " tchNormalization)                                                                                \n",
      "                                                                                                  \n",
      " conv5_block3_preact_relu (  (None, 7, 7, 2048)           0         ['conv5_block3_preact_bn[0][0]\n",
      " Activation)                                                        ']                            \n",
      "                                                                                                  \n",
      " conv5_block3_1_conv (Conv2  (None, 7, 7, 512)            1048576   ['conv5_block3_preact_relu[0][\n",
      " D)                                                                 0]']                          \n",
      "                                                                                                  \n",
      " conv5_block3_1_bn (BatchNo  (None, 7, 7, 512)            2048      ['conv5_block3_1_conv[0][0]'] \n",
      " rmalization)                                                                                     \n",
      "                                                                                                  \n",
      " conv5_block3_1_relu (Activ  (None, 7, 7, 512)            0         ['conv5_block3_1_bn[0][0]']   \n",
      " ation)                                                                                           \n",
      "                                                                                                  \n",
      " conv5_block3_2_pad (ZeroPa  (None, 9, 9, 512)            0         ['conv5_block3_1_relu[0][0]'] \n",
      " dding2D)                                                                                         \n",
      "                                                                                                  \n",
      " conv5_block3_2_conv (Conv2  (None, 7, 7, 512)            2359296   ['conv5_block3_2_pad[0][0]']  \n",
      " D)                                                                                               \n",
      "                                                                                                  \n",
      " conv5_block3_2_bn (BatchNo  (None, 7, 7, 512)            2048      ['conv5_block3_2_conv[0][0]'] \n",
      " rmalization)                                                                                     \n",
      "                                                                                                  \n",
      " conv5_block3_2_relu (Activ  (None, 7, 7, 512)            0         ['conv5_block3_2_bn[0][0]']   \n",
      " ation)                                                                                           \n",
      "                                                                                                  \n",
      " conv5_block3_3_conv (Conv2  (None, 7, 7, 2048)           1050624   ['conv5_block3_2_relu[0][0]'] \n",
      " D)                                                                                               \n",
      "                                                                                                  \n",
      " conv5_block3_out (Add)      (None, 7, 7, 2048)           0         ['conv5_block2_out[0][0]',    \n",
      "                                                                     'conv5_block3_3_conv[0][0]'] \n",
      "                                                                                                  \n",
      " post_bn (BatchNormalizatio  (None, 7, 7, 2048)           8192      ['conv5_block3_out[0][0]']    \n",
      " n)                                                                                               \n",
      "                                                                                                  \n",
      " post_relu (Activation)      (None, 7, 7, 2048)           0         ['post_bn[0][0]']             \n",
      "                                                                                                  \n",
      "==================================================================================================\n",
      "Total params: 23564800 (89.89 MB)\n",
      "Trainable params: 23519360 (89.72 MB)\n",
      "Non-trainable params: 45440 (177.50 KB)\n",
      "__________________________________________________________________________________________________\n"
     ]
    }
   ],
   "source": [
    "# Using ResNet50V2 as the base model in transfer learning\n",
    "base_model = tf.keras.applications.ResNet50V2(input_shape=(224, 224, 3),include_top= False,weights='imagenet')\n",
    "\n",
    "base_model.summary()"
   ]
  },
  {
   "cell_type": "markdown",
   "id": "8212fbdd",
   "metadata": {},
   "source": [
    "**Freezing Layers in Deep Learning**\n",
    "\n",
    "Freezing layers involves fixing the weights of certain layers during training, typically the convolutional base in transfer learning. This preserves learned features, accelerates convergence on new tasks, and prevents overfitting. It enhances computational efficiency by reducing the number of parameters updated, making training faster and more resource-efficient.\n"
   ]
  },
  {
   "cell_type": "markdown",
   "id": "ce7c945e",
   "metadata": {},
   "source": [
    "**Impact of Unfreezing Layers**\n",
    "\n",
    "Unfreezing the last 50 layers in a pretrained model improved performance by 10%. This adjustment allowed the model to adapt more closely to the new task's specific features, leveraging fine-tuning to capture finer details and nuances in the data.\n"
   ]
  },
  {
   "cell_type": "code",
   "execution_count": 9,
   "id": "a0bed96d",
   "metadata": {},
   "outputs": [],
   "source": [
    "# Freeze the layers expect for last 5. Allowing last 5 layers to retrain in the ResNet model architecture\n",
    "base_model.trainable = True\n",
    "\n",
    "for layer in base_model.layers[:-50]:\n",
    "    layer.trainable = False"
   ]
  },
  {
   "cell_type": "code",
   "execution_count": 10,
   "id": "02aab6a8",
   "metadata": {},
   "outputs": [],
   "source": [
    "# Adding top layers - introducing custom layers and adding the output layer with 7 neurons for 7 output.\n",
    "model = Sequential([base_model,Dropout(.25),BatchNormalization(),Flatten(),Dense(64, activation='relu'),\n",
    "                    BatchNormalization(),Dropout(.5),Dense(7,activation='softmax')])\n"
   ]
  },
  {
   "cell_type": "markdown",
   "id": "69ccd041",
   "metadata": {},
   "source": [
    "**Additional Layers Explanation**\n",
    "\n",
    "The added layers enhance the pretrained `base_model` for improved performance in facial emotion recognition:\n",
    "\n",
    "- **Dropout (0.25)**: Reduces overfitting by randomly deactivating 25% of neurons during training, promoting generalization.\n",
    "\n",
    "- **Batch Normalization**: Normalizes the input layer by adjusting and scaling activations, accelerating training and enhancing model stability.\n",
    "\n",
    "- **Flatten**: Converts the 3D output of the base model into a 1D vector, necessary for connecting to fully connected layers.\n",
    "\n",
    "- **Dense (64, activation='relu')**: A fully connected layer with 64 neurons and ReLU activation, extracting complex features.\n",
    "\n",
    "- **Batch Normalization**: Ensures stable gradients by normalizing outputs from the previous layer.\n",
    "\n",
    "- **Dropout (0.5)**: Further prevents overfitting by randomly deactivating 50% of neurons during training.\n",
    "\n",
    "- **Dense (7, activation='softmax')**: Final layer for classifying facial emotions into one of seven categories, using softmax activation for probability distribution.\n"
   ]
  },
  {
   "cell_type": "code",
   "execution_count": 11,
   "id": "6823e40a",
   "metadata": {},
   "outputs": [
    {
     "name": "stdout",
     "output_type": "stream",
     "text": [
      "Model: \"sequential\"\n",
      "_________________________________________________________________\n",
      " Layer (type)                Output Shape              Param #   \n",
      "=================================================================\n",
      " resnet50v2 (Functional)     (None, 7, 7, 2048)        23564800  \n",
      "                                                                 \n",
      " dropout (Dropout)           (None, 7, 7, 2048)        0         \n",
      "                                                                 \n",
      " batch_normalization (Batch  (None, 7, 7, 2048)        8192      \n",
      " Normalization)                                                  \n",
      "                                                                 \n",
      " flatten (Flatten)           (None, 100352)            0         \n",
      "                                                                 \n",
      " dense (Dense)               (None, 64)                6422592   \n",
      "                                                                 \n",
      " batch_normalization_1 (Bat  (None, 64)                256       \n",
      " chNormalization)                                                \n",
      "                                                                 \n",
      " dropout_1 (Dropout)         (None, 64)                0         \n",
      "                                                                 \n",
      " dense_1 (Dense)             (None, 7)                 455       \n",
      "                                                                 \n",
      "=================================================================\n",
      "Total params: 29996295 (114.43 MB)\n",
      "Trainable params: 22779527 (86.90 MB)\n",
      "Non-trainable params: 7216768 (27.53 MB)\n",
      "_________________________________________________________________\n"
     ]
    }
   ],
   "source": [
    "# Model Architecture view\n",
    "model.summary()"
   ]
  },
  {
   "cell_type": "code",
   "execution_count": 12,
   "id": "06cd8d8b",
   "metadata": {},
   "outputs": [
    {
     "name": "stdout",
     "output_type": "stream",
     "text": [
      "WARNING:tensorflow:From c:\\Users\\ADMIN\\anaconda3\\envs\\cvenv\\lib\\site-packages\\keras\\src\\optimizers\\__init__.py:309: The name tf.train.Optimizer is deprecated. Please use tf.compat.v1.train.Optimizer instead.\n",
      "\n"
     ]
    }
   ],
   "source": [
    "# Compile the model\n",
    "model.compile(optimizer='adam', loss='categorical_crossentropy', metrics=['accuracy'])\n"
   ]
  },
  {
   "cell_type": "markdown",
   "id": "b698bfc4",
   "metadata": {},
   "source": [
    "**Categorical Crossentropy**\n",
    "\n",
    "It is a loss function used in multi-class classification tasks where each sample belongs to one of several mutually exclusive categories. It measures the difference between the predicted probability distribution and the actual distribution of the labels, encouraging the model to output probabilities that align closely with the true labels.\n"
   ]
  },
  {
   "cell_type": "code",
   "execution_count": 15,
   "id": "eb0666af",
   "metadata": {},
   "outputs": [],
   "source": [
    "\n",
    "# Create Callback Checkpoint\n",
    "checkpoint_path = \"Best_Model.h5\"\n",
    "\n",
    "Checkpoint = ModelCheckpoint(checkpoint_path, monitor=\"val_accuracy\", save_best_only=True,mode='max',verbose=1)\n",
    "\n",
    "# Create Early Stopping Callback to monitor the accuracy\n",
    "Early_Stopping = EarlyStopping(monitor = 'val_accuracy', patience = 7, restore_best_weights = True, verbose=1)\n",
    "\n",
    "# Create ReduceLROnPlateau Callback to reduce overfitting by decreasing learning\n",
    "Reducing_LR = tf.keras.callbacks.ReduceLROnPlateau(monitor='val_loss',factor=0.2,patience=2,verbose=1)\n",
    "\n",
    "callbacks = [Early_Stopping, Reducing_LR]\n",
    "epochs = 10\n",
    "\n",
    "# Calculate steps per epoch\n",
    "steps_per_epoch = train_data.n // train_data.batch_size\n",
    "validation_steps = test_data.n // test_data.batch_size"
   ]
  },
  {
   "cell_type": "markdown",
   "id": "7d0d4d32",
   "metadata": {},
   "source": [
    "**Importance of Callbacks in Training Neural Networks**\n",
    "\n",
    "Callbacks such as Early Stopping and Reducing Learning Rate play crucial roles in training neural networks:\n",
    "\n",
    "- **Early Stopping**: Prevents overfitting by monitoring a validation metric (like loss or accuracy) and stopping training when this metric stops improving, thus saving computation time and preventing the model from learning noise in the training data.\n",
    "\n",
    "- **ReduceLROnPlateau**: This callback in neural network training adjusts the learning rate when a monitored metric (such as validation loss or accuracy) stops improving. Key features include: Dynamic Learning Rate Adjustment, preventing overfitting, improved training stability.\n",
    "\n",
    "These callbacks improve training efficiency, model generalization, and convergence to optimal solutions in neural network training.\n"
   ]
  },
  {
   "cell_type": "code",
   "execution_count": 16,
   "id": "059fa0b9",
   "metadata": {},
   "outputs": [
    {
     "name": "stdout",
     "output_type": "stream",
     "text": [
      "Epoch 1/10\n",
      "450/450 [==============================] - 2791s 6s/step - loss: 1.4449 - accuracy: 0.4964 - val_loss: 1.7619 - val_accuracy: 0.5442 - lr: 0.0010\n",
      "Epoch 2/10\n",
      "450/450 [==============================] - 2666s 6s/step - loss: 1.2331 - accuracy: 0.5568 - val_loss: 6.0872 - val_accuracy: 0.3783 - lr: 0.0010\n",
      "Epoch 3/10\n",
      "450/450 [==============================] - 2662s 6s/step - loss: 1.1388 - accuracy: 0.5847 - val_loss: 1.0395 - val_accuracy: 0.6213 - lr: 0.0010\n",
      "Epoch 4/10\n",
      "450/450 [==============================] - 2670s 6s/step - loss: 1.0535 - accuracy: 0.6160 - val_loss: 1.0183 - val_accuracy: 0.6226 - lr: 0.0010\n",
      "Epoch 5/10\n",
      "450/450 [==============================] - 2679s 6s/step - loss: 1.0074 - accuracy: 0.6317 - val_loss: 1.0084 - val_accuracy: 0.6331 - lr: 0.0010\n",
      "Epoch 6/10\n",
      "450/450 [==============================] - 2677s 6s/step - loss: 0.9830 - accuracy: 0.6428 - val_loss: 0.9737 - val_accuracy: 0.6442 - lr: 0.0010\n",
      "Epoch 7/10\n",
      "450/450 [==============================] - 2681s 6s/step - loss: 0.9637 - accuracy: 0.6483 - val_loss: 0.9700 - val_accuracy: 0.6547 - lr: 0.0010\n",
      "Epoch 8/10\n",
      "450/450 [==============================] - 2688s 6s/step - loss: 0.9454 - accuracy: 0.6541 - val_loss: 0.9499 - val_accuracy: 0.6544 - lr: 0.0010\n",
      "Epoch 9/10\n",
      "450/450 [==============================] - 2695s 6s/step - loss: 0.9461 - accuracy: 0.6559 - val_loss: 1.1889 - val_accuracy: 0.5666 - lr: 0.0010\n",
      "Epoch 10/10\n",
      "450/450 [==============================] - 2905s 6s/step - loss: 0.9405 - accuracy: 0.6579 - val_loss: 0.9496 - val_accuracy: 0.6531 - lr: 0.0010\n"
     ]
    }
   ],
   "source": [
    "# Model Training\n",
    "history = model.fit(train_data,validation_data = test_data,epochs=epochs,batch_size=batch_size,\n",
    "                    callbacks = callbacks, steps_per_epoch=steps_per_epoch, validation_steps=validation_steps)\n",
    "\n",
    "# Save the model trained\n",
    "model.save('emotion_recognition_model_v2.h5')"
   ]
  },
  {
   "cell_type": "markdown",
   "id": "17da1167-d7b9-4f11-a3ad-e4d799855de2",
   "metadata": {},
   "source": [
    "## ***4.Model Evaluation***"
   ]
  },
  {
   "cell_type": "code",
   "execution_count": 16,
   "id": "436ccd06",
   "metadata": {},
   "outputs": [
    {
     "name": "stderr",
     "output_type": "stream",
     "text": [
      "c:\\Users\\ADMIN\\anaconda3\\envs\\cvenv\\lib\\site-packages\\keras\\src\\engine\\training.py:3103: UserWarning: You are saving your model as an HDF5 file via `model.save()`. This file format is considered legacy. We recommend using instead the native Keras format, e.g. `model.save('my_model.keras')`.\n",
      "  saving_api.save_model(\n"
     ]
    }
   ],
   "source": [
    "# Save the model trained\n",
    "model.save('emotion_recognition_model_v3.keras')"
   ]
  },
  {
   "cell_type": "code",
   "execution_count": 17,
   "id": "69e358b3",
   "metadata": {},
   "outputs": [
    {
     "name": "stdout",
     "output_type": "stream",
     "text": [
      "111/111 [==============================] - 402s 4s/step - loss: 0.9489 - accuracy: 0.6537\n",
      "Test Loss: 0.9488824009895325\n",
      "Test Accuracy: 65.37\n"
     ]
    }
   ],
   "source": [
    "# Check the accuracy and loss on the test data\n",
    "evaluation_score = model.evaluate(test_data)\n",
    "\n",
    "print(f\"Test Loss: {evaluation_score[0]}\")\n",
    "print(f\"Test Accuracy: {round(evaluation_score[1]*100,2)}\")"
   ]
  },
  {
   "cell_type": "code",
   "execution_count": 18,
   "id": "7827f6da",
   "metadata": {},
   "outputs": [
    {
     "data": {
      "image/png": "[encoded data removed]",
      "text/plain": [
       "<Figure size 800x500 with 1 Axes>"
      ]
     },
     "metadata": {},
     "output_type": "display_data"
    },
    {
     "data": {
      "image/png": "[encoded data removed]",
      "text/plain": [
       "<Figure size 800x500 with 1 Axes>"
      ]
     },
     "metadata": {},
     "output_type": "display_data"
    }
   ],
   "source": [
    "# Get training and validation accuracy\n",
    "train_acc_v2 = history.history['accuracy']\n",
    "val_acc_v2 = history.history['val_accuracy']\n",
    "\n",
    "# Get training and validation loss\n",
    "train_loss_v2 = history.history['loss']\n",
    "val_loss_v2 = history.history['val_loss']\n",
    "\n",
    "# Plotting accuracy\n",
    "plt.figure(figsize=(8, 5))\n",
    "plt.plot(train_acc_v2, label='Training Accuracy', color='blue', marker='o')\n",
    "plt.plot(val_acc_v2, label='Validation Accuracy', color='green', marker='o')\n",
    "plt.title('Training and Validation Accuracy')\n",
    "plt.xlabel('Epoch')\n",
    "plt.ylabel('Accuracy')\n",
    "plt.legend()\n",
    "plt.grid(True)\n",
    "plt.show()\n",
    "\n",
    "# Plotting loss\n",
    "plt.figure(figsize=(8, 5))\n",
    "plt.plot(train_loss_v2, label='Training Loss', color='blue', marker='o')\n",
    "plt.plot(val_loss_v2, label='Validation Loss', color='green', marker='o')\n",
    "plt.title('Training and Validation Loss')\n",
    "plt.xlabel('Epoch')\n",
    "plt.ylabel('Loss')\n",
    "plt.legend()\n",
    "plt.grid(True)\n",
    "plt.show()\n"
   ]
  },
  {
   "cell_type": "code",
   "execution_count": 19,
   "id": "08a4e789",
   "metadata": {},
   "outputs": [
    {
     "name": "stdout",
     "output_type": "stream",
     "text": [
      "111/111 [==============================] - 372s 3s/step\n"
     ]
    }
   ],
   "source": [
    "# Predict classes on test data\n",
    "y_pred = model.predict(test_data)"
   ]
  },
  {
   "cell_type": "code",
   "execution_count": 20,
   "id": "ba678f22",
   "metadata": {},
   "outputs": [
    {
     "data": {
      "image/png": "[encoded data removed]",
      "text/plain": [
       "<Figure size 800x600 with 2 Axes>"
      ]
     },
     "metadata": {},
     "output_type": "display_data"
    }
   ],
   "source": [
    "# Plot confusion matrix with numbers\n",
    "y_pred_classes = np.argmax(y_pred, axis=1)\n",
    "y_true = test_data.classes\n",
    "cm = confusion_matrix(y_true, y_pred_classes)\n",
    "emotion_labels = ['angry', 'disgust', 'fear', 'happy', 'neutral', 'sad', 'surprise']\n",
    "\n",
    "plt.figure(figsize=(8, 6))\n",
    "plt.imshow(cm, interpolation='nearest', cmap=plt.cm.Blues)\n",
    "plt.title('Confusion Matrix')\n",
    "plt.colorbar()\n",
    "\n",
    "tick_marks = np.arange(len(emotion_labels))\n",
    "plt.xticks(tick_marks, emotion_labels, rotation=45)\n",
    "plt.yticks(tick_marks, emotion_labels)\n",
    "\n",
    "thresh = cm.max() / 2.\n",
    "for i, j in np.ndindex(cm.shape):\n",
    "    plt.text(j, i, format(cm[i, j], 'd'),\n",
    "             horizontalalignment=\"center\",\n",
    "             color=\"white\" if cm[i, j] > thresh else \"black\")\n",
    "\n",
    "plt.tight_layout()\n",
    "plt.ylabel('True label')\n",
    "plt.xlabel('Predicted label')\n",
    "plt.show()"
   ]
  },
  {
   "cell_type": "code",
   "execution_count": 21,
   "id": "15ec8f70",
   "metadata": {},
   "outputs": [
    {
     "name": "stdout",
     "output_type": "stream",
     "text": [
      "              precision    recall  f1-score   support\n",
      "\n",
      "       angry       0.56      0.59      0.57       960\n",
      "     disgust       0.81      0.35      0.49       111\n",
      "        fear       0.58      0.32      0.41      1018\n",
      "       happy       0.87      0.85      0.86      1825\n",
      "     neutral       0.58      0.67      0.62      1216\n",
      "         sad       0.48      0.64      0.55      1139\n",
      "    surprise       0.78      0.75      0.76       797\n",
      "\n",
      "    accuracy                           0.65      7066\n",
      "   macro avg       0.67      0.60      0.61      7066\n",
      "weighted avg       0.66      0.65      0.65      7066\n",
      "\n"
     ]
    }
   ],
   "source": [
    "# Check classification report\n",
    "print(classification_report(y_true, y_pred_classes, target_names=emotion_labels))"
   ]
  },
  {
   "cell_type": "code",
   "execution_count": 22,
   "id": "6aba9736",
   "metadata": {},
   "outputs": [
    {
     "name": "stdout",
     "output_type": "stream",
     "text": [
      "Train accuracy :65.79%\n",
      "Validation accuracy :65.47%\n"
     ]
    }
   ],
   "source": [
    "# Check train and validation accuracies finally\n",
    "print(f\"Train accuracy :{round(max(train_acc_v2)*100,2)}%\")\n",
    "print(f\"Validation accuracy :{round(max(val_acc_v2)*100,2)}%\")"
   ]
  },
  {
   "cell_type": "markdown",
   "id": "02b52735",
   "metadata": {},
   "source": [
    "**Evaluation Metrics**\n",
    "\n",
    "- **Loss**: Measures how well the model predicts during training; lower is better. It indicates the difference between predicted and actual values.\n",
    "  \n",
    "- **Accuracy**: Measures the percentage of correctly predicted instances out of total instances. Higher is better for accuracy.\n",
    "\n",
    "Achieving 68% accuracy on test data indicates the model's effectiveness in making correct predictions."
   ]
  },
  {
   "cell_type": "markdown",
   "id": "64e55597",
   "metadata": {},
   "source": [
    "## ***5.Project Summary***\n",
    "\n"
   ]
  },
  {
   "cell_type": "markdown",
   "id": "67ade965",
   "metadata": {},
   "source": [
    "**Key Steps Taken**:\n",
    "- **Data Collection and Preprocessing**: Assembled a diverse dataset of facial images categorized into seven emotions. Applied data augmentation and normalization to enhance variability and prepare data for training.\n",
    "  \n",
    "- **Model Development**: Designed a Convolutional Neural Network (CNN) architecture, leveraging Transfer Learning with VGG16. Fine-tuned pre-trained models to accelerate training and improve accuracy.\n",
    "\n",
    "- **Training and Evaluation**: Trained the model on augmented data, optimizing hyperparameters to achieve 67% accuracy on test data. Monitored training using early stopping and learning rate reduction to mitigate overfitting.\n",
    "\n",
    "- **Real-Time Processing**: Developed algorithms for real-time emotion recognition, preparing for integration into user-friendly applications."
   ]
  },
  {
   "cell_type": "markdown",
   "id": "954076a7",
   "metadata": {},
   "source": [
    "**Conclusion**\n",
    "\n",
    "The project successfully implemented a facial emotion recognition system using deep learning techniques, achieving promising results in accuracy. Future work includes refining the model further, exploring more complex architectures like ResNet50V2, and optimizing for real-time performance in diverse applications.\n"
   ]
  },
  {
   "cell_type": "code",
   "execution_count": null,
   "id": "009797c2",
   "metadata": {},
   "outputs": [],
   "source": []
  }
 ],
 "metadata": {
  "kernelspec": {
   "display_name": "Python 3 (ipykernel)",
   "language": "python",
   "name": "python3"
  },
  "language_info": {
   "codemirror_mode": {
    "name": "ipython",
    "version": 3
   },
   "file_extension": ".py",
   "mimetype": "text/x-python",
   "name": "python",
   "nbconvert_exporter": "python",
   "pygments_lexer": "ipython3",
   "version": "3.10.14"
  }
 },
 "nbformat": 4,
 "nbformat_minor": 5
}
